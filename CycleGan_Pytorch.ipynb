{
 "cells": [
  {
   "cell_type": "markdown",
   "metadata": {},
   "source": [
    "Source: https://hardikbansal.github.io/CycleGANBlog/"
   ]
  },
  {
   "cell_type": "code",
   "execution_count": 1,
   "metadata": {},
   "outputs": [],
   "source": [
    "import torch\n",
    "import torch.nn as nn\n",
    "import torch.nn.functional as F\n",
    "from torch.utils.data import Dataset, DataLoader\n",
    "import matplotlib.pyplot as plt\n",
    "import os\n",
    "from PIL import Image\n",
    "from torchvision import transforms\n",
    "%matplotlib inline"
   ]
  },
  {
   "cell_type": "markdown",
   "metadata": {},
   "source": [
    "## HYPER-PARAMETERS"
   ]
  },
  {
   "cell_type": "code",
   "execution_count": 2,
   "metadata": {},
   "outputs": [],
   "source": [
    "a_folder = \"/Users/tfolkman/Downloads/horse2zebra/trainA/\"\n",
    "b_folder = \"/Users/tfolkman/Downloads/horse2zebra/trainB/\"\n",
    "batch_size = 1\n",
    "num_epochs = 1"
   ]
  },
  {
   "cell_type": "code",
   "execution_count": 3,
   "metadata": {},
   "outputs": [],
   "source": [
    "device = \"cuda\" if torch.cuda.is_available() else \"cpu\""
   ]
  },
  {
   "cell_type": "code",
   "execution_count": 4,
   "metadata": {},
   "outputs": [],
   "source": [
    "def weights_init(m):\n",
    "    classname = m.__class__.__name__\n",
    "    if classname.find('Conv') != -1:\n",
    "        m.weight.data.normal_(0.0, 0.02)\n",
    "    elif classname.find('BatchNorm') != -1:\n",
    "        m.weight.data.normal_(1.0, 0.02)\n",
    "        m.bias.data.fill_(0)\n",
    "\n",
    "class GANDataSet(Dataset):\n",
    "    def __init__(self, a_folder, b_folder, transform=None):\n",
    "        self.a_folder = a_folder\n",
    "        self.b_folder = b_folder\n",
    "        self.a_images = os.listdir(a_folder)\n",
    "        self.b_images = os.listdir(b_folder)\n",
    "        self.transform = transform\n",
    "        \n",
    "    def __len__(self):\n",
    "        return min(len(self.a_images), len(self.b_images))\n",
    "    \n",
    "    def __read_image(self, path):\n",
    "        image = Image.open(path)\n",
    "        if self.transform:\n",
    "            image = self.transform(image)\n",
    "        return image\n",
    "    \n",
    "    def __getitem__(self, idx):\n",
    "        a_img_name = os.path.join(self.a_folder,\n",
    "                                self.a_images[idx])\n",
    "        b_img_name = os.path.join(self.b_folder,\n",
    "                                self.b_images[idx])\n",
    "        a_img = self.__read_image(a_img_name)\n",
    "        b_img = self.__read_image(b_img_name)\n",
    "\n",
    "        return a_img, b_img"
   ]
  },
  {
   "cell_type": "code",
   "execution_count": 5,
   "metadata": {},
   "outputs": [],
   "source": [
    "dataset = GANDataSet(a_folder, b_folder, \n",
    "                     transform=transforms.Compose([\n",
    "                         transforms.Resize((256, 256)),\n",
    "                         transforms.ToTensor(),\n",
    "                         transforms.Normalize((0.5, 0.5, 0.5), \n",
    "                                              (0.5, 0.5, 0.5))]))\n",
    "dataloader = DataLoader(dataset, batch_size=batch_size, shuffle=True)"
   ]
  },
  {
   "cell_type": "code",
   "execution_count": 6,
   "metadata": {},
   "outputs": [],
   "source": [
    "class Encoder(nn.Module):\n",
    "    def __init__(self):\n",
    "        super(Encoder, self).__init__()\n",
    "        self.conv1 = nn.Conv2d(3, 64, 7, 1, 1)\n",
    "        self.conv2 = nn.Conv2d(64, 128, 2, 2)\n",
    "        self.conv3 = nn.Conv2d(128, 256, 2, 2)\n",
    "        self.bn1 = nn.BatchNorm2d(64)\n",
    "        self.bn2 = nn.BatchNorm2d(128)\n",
    "        \n",
    "    def forward(self, input_image):\n",
    "        output = F.relu(self.bn1(self.conv1(input_image)))\n",
    "        output = F.relu(self.bn2(self.conv2(output)))\n",
    "        return self.conv3(output)"
   ]
  },
  {
   "cell_type": "code",
   "execution_count": 7,
   "metadata": {},
   "outputs": [],
   "source": [
    "def conv3x3(in_planes, out_planes, stride=1):\n",
    "    \"\"\"3x3 convolution with padding\"\"\"\n",
    "    return nn.Conv2d(in_planes, out_planes, kernel_size=3, stride=stride,\n",
    "                     padding=1, bias=False)\n",
    "\n",
    "\n",
    "class ResBlock(nn.Module):\n",
    "\n",
    "    def __init__(self, inplanes, planes, stride=1):\n",
    "        super(ResBlock, self).__init__()\n",
    "        self.conv1 = conv3x3(inplanes, planes, stride)\n",
    "        self.bn1 = nn.BatchNorm2d(planes)\n",
    "        self.relu = nn.ReLU(inplace=True)\n",
    "        self.conv2 = conv3x3(planes, planes)\n",
    "        self.bn2 = nn.BatchNorm2d(planes)\n",
    "        self.stride = stride\n",
    "\n",
    "    def forward(self, x):\n",
    "        residual = x\n",
    "\n",
    "        out = self.conv1(x)\n",
    "        out = self.bn1(out)\n",
    "        out = self.relu(out)\n",
    "\n",
    "        out = self.conv2(out)\n",
    "        out = self.bn2(out)\n",
    "\n",
    "        out += residual\n",
    "        out = self.relu(out)\n",
    "\n",
    "        return out\n",
    "    \n",
    "class Transformer(nn.Module):\n",
    "    \n",
    "    def __init__(self, n_blocks):\n",
    "        super(Transformer, self).__init__()\n",
    "        \n",
    "        layers = []\n",
    "        for i in range(n_blocks):\n",
    "            layers.append(ResBlock(256, 256))\n",
    "            \n",
    "        self.reslayers = nn.Sequential(*layers)\n",
    "        \n",
    "    def forward(self, x):\n",
    "        return self.reslayers(x)"
   ]
  },
  {
   "cell_type": "code",
   "execution_count": 8,
   "metadata": {},
   "outputs": [],
   "source": [
    "class Decoder(nn.Module):\n",
    "    def __init__(self):\n",
    "        super(Decoder, self).__init__()\n",
    "        self.conv1 = nn.ConvTranspose2d(256, 128, 2, 2)\n",
    "        self.conv2 = nn.ConvTranspose2d(128, 64, 2, 2)\n",
    "        self.conv3 = nn.ConvTranspose2d(64, 3, 7, 1, 1)\n",
    "        self.bn1 = nn.BatchNorm2d(128)\n",
    "        self.bn2 = nn.BatchNorm2d(64)\n",
    "        \n",
    "    def forward(self, input_image):\n",
    "        output = F.relu(self.bn1(self.conv1(input_image)))\n",
    "        output = F.relu(self.bn2(self.conv2(output)))\n",
    "        return torch.tanh(self.conv3(output))"
   ]
  },
  {
   "cell_type": "code",
   "execution_count": 9,
   "metadata": {},
   "outputs": [],
   "source": [
    "class Generator(nn.Module):\n",
    "    def __init__(self, encoder, transformer, decoder):\n",
    "        super(Generator, self).__init__()\n",
    "        self.encoder = encoder\n",
    "        self.transformer = transformer\n",
    "        self.decoder = decoder\n",
    "        \n",
    "    def forward(self, x):\n",
    "        enc = self.encoder(x)\n",
    "        trans = self.transformer(enc)\n",
    "        decoded = self.decoder(trans)\n",
    "        return decoded"
   ]
  },
  {
   "cell_type": "code",
   "execution_count": 10,
   "metadata": {},
   "outputs": [],
   "source": [
    "class Discriminator(nn.Module):\n",
    "    def __init__(self):\n",
    "        super(Discriminator, self).__init__()\n",
    "        self.c1 = nn.Conv2d(3, 64, 4, 2, 1) #128\n",
    "        self.c2 = nn.Conv2d(64, 128, 4, 2, 1) #64\n",
    "        self.c3 = nn.Conv2d(128, 256, 4, 2, 1) #32\n",
    "        self.c4 = nn.Conv2d(256, 512, 4, 2, 1) #16\n",
    "        self.out = nn.Conv2d(512, 1, 16, 1, 0) # 1\n",
    "        \n",
    "        self.bn1 = nn.BatchNorm2d(64)\n",
    "        self.bn2 = nn.BatchNorm2d(128)\n",
    "        self.bn3 = nn.BatchNorm2d(256)\n",
    "        self.bn4 = nn.BatchNorm2d(512)\n",
    "        \n",
    "    def forward(self, x):\n",
    "        x = F.relu(self.bn1(self.c1(x)))\n",
    "        x = F.relu(self.bn2(self.c2(x)))\n",
    "        x = F.relu(self.bn3(self.c3(x)))\n",
    "        x = F.relu(self.bn4(self.c4(x)))\n",
    "        x = torch.sigmoid(self.out(x))\n",
    "        return x.view(-1)"
   ]
  },
  {
   "cell_type": "code",
   "execution_count": 14,
   "metadata": {},
   "outputs": [],
   "source": [
    "generator_a_b = Generator(Encoder().to(device), \n",
    "                          Transformer(6).to(device), \n",
    "                          Decoder().to(device)).to(device)\n",
    "generator_b_a = Generator(Encoder().to(device), \n",
    "                          Transformer(6).to(device), \n",
    "                          Decoder().to(device)).to(device)\n",
    "discriminator_a = Discriminator().to(device)\n",
    "discriminator_b = Discriminator().to(device)\n",
    "\n",
    "generator_a_b.apply(weights_init)\n",
    "generator_b_a.apply(weights_init)\n",
    "discriminator_a.apply(weights_init)\n",
    "discriminator_b.apply(weights_init)\n",
    "\n",
    "mse_loss = nn.MSELoss()"
   ]
  },
  {
   "cell_type": "code",
   "execution_count": 12,
   "metadata": {},
   "outputs": [],
   "source": [
    "total_step = len(dataloader)\n",
    "for epoch in range(num_epochs):\n",
    "    for i, (img_a, img_b) in enumerate(dataloader):\n",
    "        \n",
    "        img_a = img_a.to(device)\n",
    "        img_b = img_b.to(device)\n",
    "\n",
    "        gen_b = generator_a_b(img_a)\n",
    "        cyclic_a = generator_b_a(gen_b)\n",
    "        \n",
    "        gen_a = generator_b_a(img_b)\n",
    "        cyclic_b = generator_a_b(gen_a)\n",
    "        \n",
    "        disc_a_real_pred = discriminator_a(img_a)\n",
    "        disc_a_fake_pred = discriminator_a(gen_a)\n",
    "        \n",
    "        disc_b_real_pred = discriminator_b(img_b)\n",
    "        disc_b_fake_pred = discriminator_b(gen_b)\n",
    "        \n",
    "        ones =  torch.tensor(1.0).expand_as(disc_a_real_pred)\n",
    "        zeros = torch.tensor(0.0).expand_as(disc_a_fake_pred)\n",
    "        \n",
    "        disc_a_loss_real = mse_loss(disc_a_real_pred, ones)\n",
    "        disc_a_loss_fake = mse_loss(disc_a_fake_pred, zeros)\n",
    "        \n",
    "        disc_b_loss_real = mse_loss(disc_b_real_pred, ones)\n",
    "        disc_b_loss_fake = mse_loss(disc_b_fake_pred, zeros)\n",
    "        \n",
    "        # disc a loss\n",
    "        disc_a_loss = (disc_a_loss_real + disc_a_loss_fake) / 2\n",
    "        # disc b loss\n",
    "        disc_b_loss = (disc_b_loss_real + disc_b_loss_fake) / 2\n",
    "        \n",
    "        \n",
    "        gen_loss_a = mse_loss(disc_a_fake_pred, ones)\n",
    "        gen_b_loss = mse_loss(disc_b_fake_pred, ones)\n",
    "\n",
    "                \n",
    "        \n",
    "        break"
   ]
  },
  {
   "cell_type": "code",
   "execution_count": null,
   "metadata": {},
   "outputs": [],
   "source": []
  }
 ],
 "metadata": {
  "kernelspec": {
   "display_name": "Python 3",
   "language": "python",
   "name": "python3"
  },
  "language_info": {
   "codemirror_mode": {
    "name": "ipython",
    "version": 3
   },
   "file_extension": ".py",
   "mimetype": "text/x-python",
   "name": "python",
   "nbconvert_exporter": "python",
   "pygments_lexer": "ipython3",
   "version": "3.5.3"
  }
 },
 "nbformat": 4,
 "nbformat_minor": 2
}
