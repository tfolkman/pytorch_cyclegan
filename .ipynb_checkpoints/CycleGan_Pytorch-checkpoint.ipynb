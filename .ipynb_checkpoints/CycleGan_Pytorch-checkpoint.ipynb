{
 "cells": [
  {
   "cell_type": "markdown",
   "metadata": {},
   "source": [
    "Source: https://hardikbansal.github.io/CycleGANBlog/"
   ]
  },
  {
   "cell_type": "code",
   "execution_count": 49,
   "metadata": {},
   "outputs": [],
   "source": [
    "import torch\n",
    "import torch.nn as nn\n",
    "import torch.nn.functional as F\n",
    "from torch.utils.data import Dataset\n",
    "import matplotlib.pyplot as plt\n",
    "import os\n",
    "from PIL import Image\n",
    "from torchvision import transforms\n",
    "%matplotlib inline"
   ]
  },
  {
   "cell_type": "markdown",
   "metadata": {},
   "source": [
    "## HYPER-PARAMETERS"
   ]
  },
  {
   "cell_type": "code",
   "execution_count": 10,
   "metadata": {},
   "outputs": [],
   "source": [
    "a_folder = \"/Users/tfolkman/Downloads/horse2zebra/trainA/\"\n",
    "b_folder = \"/Users/tfolkman/Downloads/horse2zebra/trainB/\""
   ]
  },
  {
   "cell_type": "code",
   "execution_count": 53,
   "metadata": {},
   "outputs": [],
   "source": [
    "class GANDataLoader(Dataset):\n",
    "    def __init__(self, a_folder, b_folder, transform=None):\n",
    "        self.a_folder = a_folder\n",
    "        self.b_folder = b_folder\n",
    "        self.a_images = os.listdir(a_folder)\n",
    "        self.b_images = os.listdir(b_folder)\n",
    "        self.transform = transform\n",
    "        \n",
    "    def __len__(self):\n",
    "        return min(len(self.a_images), len(self.b_images))\n",
    "    \n",
    "    def __read_image(self, path):\n",
    "        image = Image.open(path)\n",
    "        if self.transform:\n",
    "            image = self.transform(image)\n",
    "        return image\n",
    "    \n",
    "    def __getitem__(self, idx):\n",
    "        a_img_name = os.path.join(self.a_folder,\n",
    "                                self.a_images[idx])\n",
    "        b_img_name = os.path.join(self.b_folder,\n",
    "                                self.b_images[idx])\n",
    "        a_img = self.__read_image(a_img_name)\n",
    "        b_img = self.__read_image(b_img_name)\n",
    "\n",
    "        return a_img, b_img"
   ]
  },
  {
   "cell_type": "code",
   "execution_count": 59,
   "metadata": {},
   "outputs": [],
   "source": [
    "data_loader = GANDataLoader(a_folder, b_folder, transform=transforms.Compose([transforms.Resize((256, 256)),\n",
    "                                                                             transforms.ToTensor()]))"
   ]
  },
  {
   "cell_type": "code",
   "execution_count": 7,
   "metadata": {},
   "outputs": [],
   "source": [
    "class Encoder(nn.Module):\n",
    "    def __init__(self, input_size, hidden_size):\n",
    "        super(Encoder, self).__init__()\n",
    "        self.conv1 = nn.Conv2d(3, 64, 7, 1)\n",
    "        self.conv2 = nn.Conv2d(64, 128, 3, 2)\n",
    "        self.conv3 = nn.Conv2d(128, 256, 3, 2)\n",
    "        self.bn1 = nn.BatchNorm2d(64)\n",
    "        self.bn2 = nn.BatchNorm2d(128)\n",
    "        \n",
    "    def forward(self, input_image):\n",
    "        output = F.relu(self.bn1(self.conv1(input_image)))\n",
    "        output = F.relu(self.bn2(self.conv2(input_image)))\n",
    "        return self.conv3(input_image)"
   ]
  },
  {
   "cell_type": "code",
   "execution_count": null,
   "metadata": {},
   "outputs": [],
   "source": []
  }
 ],
 "metadata": {
  "kernelspec": {
   "display_name": "Python 3",
   "language": "python",
   "name": "python3"
  },
  "language_info": {
   "codemirror_mode": {
    "name": "ipython",
    "version": 3
   },
   "file_extension": ".py",
   "mimetype": "text/x-python",
   "name": "python",
   "nbconvert_exporter": "python",
   "pygments_lexer": "ipython3",
   "version": "3.5.3"
  }
 },
 "nbformat": 4,
 "nbformat_minor": 2
}
