{
 "cells": [
  {
   "cell_type": "markdown",
   "metadata": {},
   "source": [
    "Source: https://hardikbansal.github.io/CycleGANBlog/"
   ]
  },
  {
   "cell_type": "code",
   "execution_count": 1,
   "metadata": {},
   "outputs": [],
   "source": [
    "import torch\n",
    "import torch.nn as nn\n",
    "import torch.nn.functional as F\n",
    "from torch.utils.data import Dataset, DataLoader\n",
    "import matplotlib.pyplot as plt\n",
    "import os\n",
    "from PIL import Image\n",
    "from torchvision import transforms\n",
    "%matplotlib inline"
   ]
  },
  {
   "cell_type": "markdown",
   "metadata": {},
   "source": [
    "## HYPER-PARAMETERS"
   ]
  },
  {
   "cell_type": "code",
   "execution_count": 2,
   "metadata": {},
   "outputs": [],
   "source": [
    "a_folder = \"/Users/tfolkman/Downloads/horse2zebra/trainA/\"\n",
    "b_folder = \"/Users/tfolkman/Downloads/horse2zebra/trainB/\"\n",
    "batch_size = 1\n",
    "num_workers_loader = 1"
   ]
  },
  {
   "cell_type": "code",
   "execution_count": 3,
   "metadata": {},
   "outputs": [],
   "source": [
    "class GANDataSet(Dataset):\n",
    "    def __init__(self, a_folder, b_folder, transform=None):\n",
    "        self.a_folder = a_folder\n",
    "        self.b_folder = b_folder\n",
    "        self.a_images = os.listdir(a_folder)\n",
    "        self.b_images = os.listdir(b_folder)\n",
    "        self.transform = transform\n",
    "        \n",
    "    def __len__(self):\n",
    "        return min(len(self.a_images), len(self.b_images))\n",
    "    \n",
    "    def __read_image(self, path):\n",
    "        image = Image.open(path)\n",
    "        if self.transform:\n",
    "            image = self.transform(image)\n",
    "        return image\n",
    "    \n",
    "    def __getitem__(self, idx):\n",
    "        a_img_name = os.path.join(self.a_folder,\n",
    "                                self.a_images[idx])\n",
    "        b_img_name = os.path.join(self.b_folder,\n",
    "                                self.b_images[idx])\n",
    "        a_img = self.__read_image(a_img_name)\n",
    "        b_img = self.__read_image(b_img_name)\n",
    "\n",
    "        return a_img, b_img"
   ]
  },
  {
   "cell_type": "code",
   "execution_count": 4,
   "metadata": {},
   "outputs": [],
   "source": [
    "dataset = GANDataSet(a_folder, b_folder, transform=transforms.Compose([transforms.Resize((256, 256)),\n",
    "                                                                             transforms.ToTensor()]))\n",
    "dataloader = DataLoader(dataset, batch_size=batch_size, shuffle=True, num_workers=num_workers_loader)"
   ]
  },
  {
   "cell_type": "code",
   "execution_count": 5,
   "metadata": {},
   "outputs": [],
   "source": [
    "class Encoder(nn.Module):\n",
    "    def __init__(self):\n",
    "        super(Encoder, self).__init__()\n",
    "        self.conv1 = nn.Conv2d(3, 64, 7, 1, 1)\n",
    "        self.conv2 = nn.Conv2d(64, 128, 2, 2)\n",
    "        self.conv3 = nn.Conv2d(128, 256, 2, 2)\n",
    "        self.bn1 = nn.BatchNorm2d(64)\n",
    "        self.bn2 = nn.BatchNorm2d(128)\n",
    "        \n",
    "    def forward(self, input_image):\n",
    "        output = F.relu(self.bn1(self.conv1(input_image)))\n",
    "        output = F.relu(self.bn2(self.conv2(output)))\n",
    "        return self.conv3(output)"
   ]
  },
  {
   "cell_type": "code",
   "execution_count": 6,
   "metadata": {},
   "outputs": [],
   "source": [
    "def conv3x3(in_planes, out_planes, stride=1):\n",
    "    \"\"\"3x3 convolution with padding\"\"\"\n",
    "    return nn.Conv2d(in_planes, out_planes, kernel_size=3, stride=stride,\n",
    "                     padding=1, bias=False)\n",
    "\n",
    "\n",
    "class ResBlock(nn.Module):\n",
    "\n",
    "    def __init__(self, inplanes, planes, stride=1):\n",
    "        super(ResBlock, self).__init__()\n",
    "        self.conv1 = conv3x3(inplanes, planes, stride)\n",
    "        self.bn1 = nn.BatchNorm2d(planes)\n",
    "        self.relu = nn.ReLU(inplace=True)\n",
    "        self.conv2 = conv3x3(planes, planes)\n",
    "        self.bn2 = nn.BatchNorm2d(planes)\n",
    "        self.stride = stride\n",
    "\n",
    "    def forward(self, x):\n",
    "        residual = x\n",
    "\n",
    "        out = self.conv1(x)\n",
    "        out = self.bn1(out)\n",
    "        out = self.relu(out)\n",
    "\n",
    "        out = self.conv2(out)\n",
    "        out = self.bn2(out)\n",
    "\n",
    "        out += residual\n",
    "        out = self.relu(out)\n",
    "\n",
    "        return out\n",
    "    \n",
    "class Transformer(nn.Module):\n",
    "    \n",
    "    def __init__(self, n_blocks):\n",
    "        super(Transformer, self).__init__()\n",
    "        \n",
    "        layers = []\n",
    "        for i in range(n_blocks):\n",
    "            layers.append(ResBlock(256, 256))\n",
    "            \n",
    "        self.reslayers = nn.Sequential(*layers)\n",
    "        \n",
    "    def forward(self, x):\n",
    "        return self.reslayers(x)"
   ]
  },
  {
   "cell_type": "code",
   "execution_count": 11,
   "metadata": {},
   "outputs": [],
   "source": [
    "class Decoder(nn.Module):\n",
    "    def __init__(self):\n",
    "        super(Decoder, self).__init__()\n",
    "        self.conv1 = nn.ConvTranspose2d(256, 128, 2, 2)\n",
    "        self.conv2 = nn.ConvTranspose2d(128, 64, 2, 2)\n",
    "        self.conv3 = nn.ConvTranspose2d(64, 3, 7, 1, 1)\n",
    "        self.bn1 = nn.BatchNorm2d(128)\n",
    "        self.bn2 = nn.BatchNorm2d(64)\n",
    "        \n",
    "    def forward(self, input_image):\n",
    "        output = F.relu(self.bn1(self.conv1(input_image)))\n",
    "        output = F.relu(self.bn2(self.conv2(output)))\n",
    "        return self.conv3(output)"
   ]
  },
  {
   "cell_type": "code",
   "execution_count": 12,
   "metadata": {},
   "outputs": [],
   "source": [
    "class Generator(nn.Module):\n",
    "    def __init__(self, encoder, transformer, decoder):\n",
    "        super(Generator, self).__init__()\n",
    "        self.encoder = encoder\n",
    "        self.transformer = transformer\n",
    "        self.decoder = decoder\n",
    "        \n",
    "    def forward(self, x):\n",
    "        enc = self.encoder(x)\n",
    "        trans = self.transformer(enc)\n",
    "        decoded = self.decoder(trans)\n",
    "        return decoded"
   ]
  },
  {
   "cell_type": "code",
   "execution_count": 27,
   "metadata": {},
   "outputs": [],
   "source": [
    "class Discriminator(nn.Module):\n",
    "    def __init__(self):\n",
    "        super(Discriminator, self).__init__()\n",
    "        self.c1 = nn.Conv2d(3, 64, 4, 2, 1) #128\n",
    "        self.c2 = nn.Conv2d(64, 128, 4, 2, 1) #64\n",
    "        self.c3 = nn.Conv2d(128, 256, 4, 2, 1) #32\n",
    "        self.c4 = nn.Conv2d(256, 512, 4, 2, 1) #16\n",
    "        self.out = nn.Conv2d(512, 1, 16, 1, 0) # 1\n",
    "        \n",
    "        self.bn1 = nn.BatchNorm2d(64)\n",
    "        self.bn2 = nn.BatchNorm2d(128)\n",
    "        self.bn3 = nn.BatchNorm2d(256)\n",
    "        self.bn4 = nn.BatchNorm2d(512)\n",
    "        \n",
    "    def forward(self, x):\n",
    "        x = F.relu(self.bn1(self.c1(x)))\n",
    "        x = F.relu(self.bn2(self.c2(x)))\n",
    "        x = F.relu(self.bn3(self.c3(x)))\n",
    "        x = F.relu(self.bn4(self.c4(x)))\n",
    "        return self.out(x)"
   ]
  },
  {
   "cell_type": "code",
   "execution_count": 28,
   "metadata": {},
   "outputs": [],
   "source": [
    "generator = Generator(Encoder(), Transformer(6), Decoder())\n",
    "discriminator = Discriminator()"
   ]
  },
  {
   "cell_type": "code",
   "execution_count": 29,
   "metadata": {},
   "outputs": [
    {
     "name": "stdout",
     "output_type": "stream",
     "text": [
      "torch.Size([1, 3, 256, 256])\n",
      "torch.Size([1, 1, 1, 1])\n"
     ]
    }
   ],
   "source": [
    "for a, b in dataloader:\n",
    "    print(a.shape)\n",
    "    print(discriminator(a).shape)\n",
    "    break\n",
    "    "
   ]
  },
  {
   "cell_type": "code",
   "execution_count": null,
   "metadata": {},
   "outputs": [],
   "source": []
  }
 ],
 "metadata": {
  "kernelspec": {
   "display_name": "Python 3",
   "language": "python",
   "name": "python3"
  },
  "language_info": {
   "codemirror_mode": {
    "name": "ipython",
    "version": 3
   },
   "file_extension": ".py",
   "mimetype": "text/x-python",
   "name": "python",
   "nbconvert_exporter": "python",
   "pygments_lexer": "ipython3",
   "version": "3.5.3"
  }
 },
 "nbformat": 4,
 "nbformat_minor": 2
}
